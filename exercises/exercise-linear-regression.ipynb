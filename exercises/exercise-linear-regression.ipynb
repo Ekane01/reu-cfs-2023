{
 "cells": [
  {
   "cell_type": "markdown",
   "id": "77a931ed",
   "metadata": {},
   "source": [
    "## Exercise: Linear Regression\n",
    "\n",
    "----\n",
    "\n",
    "Burton Rosenberg\n",
    "\n",
    "University of Miami\n",
    "\n",
    "copyright 2023 burton rosenberg all rights reserved\n",
    "\n",
    "\n",
    "----\n",
    "\n",
    "\n",
    "### Table of contents.\n",
    "\n",
    "1. <a href=\"#introduction\">Introduction</a>\n",
    "1. <a href=\"#fitting\">Fitting the model</a>\n",
    "1. <a href=\"#pearsonr\">Pearson's R</a>\n",
    "1. <a href=\"#exercise\">Exercise: MyLinReg</a>\n",
    "\n",
    "### <a name =\"introduction\">Introduction</a>\n",
    "\n",
    "The numpy package can do very sophisticated linear regressions, including returning many values to quantify the quality of the linear regression fit. See, for instance,\n",
    "\n",
    "- [Numpy Linear Algebra Reference](https://numpy.org/doc/stable/reference/routines.linalg.html)\n",
    "- [Numpy Statistics Reference](https://numpy.org/doc/stable/reference/routines.statistics.html).\n",
    "\n",
    "However, as a matter of practicing numpy and our knowledge of statistics, this \n",
    "exericse will build linear regression from the most basic numpy tools.\n",
    "\n",
    "Suppose we have a set of pairs $(x_i,y_i)$ which we belief are in a mathematical relationship. We decide to model the relationship as basically linear. That\n",
    "is we believe there is an $m$ and and $b$ such that,\n",
    "\n",
    "$$\n",
    "y_i = m x_i + b + e_i\n",
    "$$\n",
    "\n",
    "for all $i$, where the hopefully small values $e_i$ accommodate that in any of \n",
    "several ways, the relationship is not exact. We now have an optimization problem of choosing $m$ and $b$ such that the $e_i$ are minimized.\n",
    "\n",
    "### <a name=\"fitting\">Fitting the model</a>\n",
    "\n",
    "Supposing the $x$ and $y$ were random variables, and the idea is to predict one from the other. \n",
    "\n",
    "Let $\\bar{x} = E(x)$ the expectation of $x$, intuitively the no-observation guess of the value of a trial, and $\\bar{y}= E(y)$ but the same for $y$, then already we have something like, \n",
    "\n",
    "$$\n",
    "E(y) = E(m\\,x+b) = m\\,E(x) + b,\n",
    "$$\n",
    "\n",
    "so\n",
    "\n",
    "$$\n",
    "b = \\hat{y}- m\\,\\hat{x}.\n",
    "$$\n",
    "\n",
    "If we now consider the residual uncertainty of $y-mx-b$, if we wish this uncertainty have the property that it adds when $x$ and $y$ are independent, we would look to minimize the variance of that value by choice of $m$. By shifting the $x$ and $y$ if needed, we assume zero mean, and do the calculus,\n",
    "\n",
    "$$\n",
    "d/dm \\;(y - m x)^2 = 2 (y - m x) (-x) = 0\n",
    "$$\n",
    "\n",
    "or\n",
    "\n",
    "$$\n",
    "x\\cdot y = m\\, x\\cdot x\n",
    "$$ \n",
    "\n",
    "Pearson introduced version of this formula for $m$ based on his R,\n",
    "\n",
    "$$\n",
    "R(x,y)= {x\\cdot y \\over {\\sqrt{y\\cdot y}\\sqrt{x\\cdot x}}} \n",
    "$$\n",
    "\n",
    "and then the final formula for $m$,\n",
    "\n",
    "$$\n",
    " m = {\\sqrt{y\\cdot y}\\over \\sqrt{x \\cdot x}}\\; R (x,y).\n",
    "$$\n",
    "\n",
    "### <a name=\"pearsonr\">Pearson's R</a>\n",
    "\n",
    "The reason why Pearson introduced $R$ is it gives this interpretation. \n",
    "\n",
    "The prediction is $\\hat{y} = m x + b$ and the error $e = y-\\hat{y}$ after optimizing $b$ and $m$ has zero mean and is independent of $\\hat{y}$, by the rules of variance,\n",
    "\n",
    "$$\n",
    "V(y) = V(m x + b+e) = m^2 \\,V(x) + V(e) = R^2\\,V(y) + V(e)\n",
    "$$\n",
    "\n",
    "\n",
    "#####  When Pearson's R is zero. \n",
    "\n",
    "If $R$ is zero, nothing of $x$ is used to update our prediction of $y$, as the\n",
    "regression model becomes $y = E(y)$. None of the variance is explained, as $V(y)=V(e)$.\n",
    "\n",
    "\n",
    "##### When Pearson's R is 1.\n",
    "\n",
    "If $R$ is 1 or -1, we have $V(y)=V(y)+V(e)$. So we have $V(e)=E(e)=0$, so $e=0$.\n",
    "\n",
    "All of the variance is explained, in fact $y=\\hat{y}$.\n",
    "\n",
    "##### Other values of Pearson's R\n",
    "\n",
    "For other values of $R$, $R^2$ is that fraction of the variance of $y$ that is \n",
    "explained by the model, $\\hat{y}$, with the rest captured in $e$, which is either\n",
    "\"noise\" or as an unidentified factor.\n",
    "\n",
    "\n"
   ]
  },
  {
   "cell_type": "markdown",
   "id": "9f03b6bb",
   "metadata": {},
   "source": [
    "\n",
    "### <a name=\"exercise\">Exercise: MyLinReg</a>\n",
    "\n",
    "Implement the class MyLinReg to do calculate using basic numpy operations the various statistical quantities, and the linear regression parameters.\n",
    "\n",
    "Implement a function returning the mean if a vector, the covariance of two vectors,\n",
    "the variance of a vector and the standard deviation of a vector.\n",
    "\n",
    "Compute the Pearson R, and finally the parameters, \n",
    "$$\n",
    "   m =  \\frac{\\mbox{SD}(y) \\;\\mbox{R}(x,y)}{ \\mbox{SD}(x)}\n",
    "$$\n",
    "\n",
    "and the intercept by taking the mean,\n",
    "\n",
    "$$\n",
    "b = E(y) - m \\,E(x)\n",
    "$$\n",
    "\n"
   ]
  },
  {
   "cell_type": "code",
   "execution_count": 1,
   "id": "b2c43fae",
   "metadata": {},
   "outputs": [],
   "source": [
    "import numpy as np\n",
    "\n",
    "class MyLinReg:\n",
    "    \n",
    "    def __init__(self,x,y):\n",
    "        assert len(x)==len(y)\n",
    "        self.x = x\n",
    "        self.y = y\n",
    "\n",
    "    def mean(self,z):\n",
    "        # the mean of z\n",
    "        \n",
    "        return 0.0\n",
    "\n",
    "    def covar(self,z1,z2):\n",
    "        # the covariance of z1 and z2\n",
    "        \n",
    "        return 0.0\n",
    "\n",
    "    def var(self, z):\n",
    "        # the variance of z\n",
    "        \n",
    "        return 0.0\n",
    "\n",
    "    def stddev(self,z):\n",
    "        # the standard deviation of z\n",
    "        \n",
    "        return 0.0\n",
    "\n",
    "    def pearson(self):\n",
    "        # the Pearson R between the two ndarrays given in the constructor\n",
    "\n",
    "        return 0.0\n",
    "\n",
    "    def linear_regression(self):\n",
    "        # do the linear regression between the two ndarrays given\n",
    "        # return a tuple (slope, intercept,R) \n",
    "\n",
    "        m = 0.0\n",
    "        b = 0.0\n",
    "        r = 0.0\n",
    "        return(m,b,r)\n"
   ]
  },
  {
   "cell_type": "markdown",
   "id": "1758d1c4",
   "metadata": {},
   "source": [
    "\n",
    "### Test: Chocolate consumption\n",
    "\n",
    "Test on the example from the  Coursera Basic Statistic course, University of Amsterdam,\n",
    "and it was an example of something versus chocolate comsumption. \n",
    "\n",
    "<pre>\n",
    "mean x = 162.5\n",
    "std x = 110.8678\n",
    "mean y = 71.25\n",
    "std x = 18.42779\n",
    "pearson = 0.9279\n",
    "m = 0.1542\n",
    "b = 46.1864\n",
    "</pre>\n",
    "\n",
    "\n"
   ]
  },
  {
   "cell_type": "code",
   "execution_count": 2,
   "id": "0e966ed0",
   "metadata": {},
   "outputs": [
    {
     "name": "stdout",
     "output_type": "stream",
     "text": [
      "m = 0.0000, b = 0.0000, R = 0.0000\n"
     ]
    }
   ],
   "source": [
    "## this is from the Coursera Basic Statistic course, University of Amsterdam\n",
    "\n",
    "x = np.array([50,100,200,300],dtype=np.float64)\n",
    "y = np.array([50,70,70,95],dtype=np.float64)\n",
    "\n",
    "mlr = MyLinReg(x,y)\n",
    "res = mlr.linear_regression()\n",
    "print(f'm = {res[0]:.4f}, b = {res[1]:.4f}, R = {res[2]:.4f}')\n",
    "\n",
    "best_fit = lambda x: res[0]*x + res[1]\n",
    "\n",
    "# answer is m = 0.1542, b = 46.1864, R = 0.9279"
   ]
  },
  {
   "cell_type": "code",
   "execution_count": 3,
   "id": "655013d0",
   "metadata": {},
   "outputs": [
    {
     "data": {
      "image/png": "[encoded data removed]",
      "text/plain": [
       "<Figure size 432x288 with 1 Axes>"
      ]
     },
     "metadata": {
      "needs_background": "light"
     },
     "output_type": "display_data"
    }
   ],
   "source": [
    "import matplotlib.pyplot as plt\n",
    "%matplotlib inline\n",
    "\n",
    "plt.scatter(x,y,c='g')\n",
    "plt.plot(x,best_fit(x),'b--',)\n",
    "plt.xlabel(\"Chocolate Consumption\")\n",
    "plt.ylabel(\"Weight\")\n",
    "plt.title(\"Basic Statistics\")\n",
    "plt.show()\n"
   ]
  },
  {
   "cell_type": "markdown",
   "id": "7e0c033f",
   "metadata": {},
   "source": [
    "### Random testing\n"
   ]
  },
  {
   "cell_type": "code",
   "execution_count": 4,
   "id": "f9515ec0",
   "metadata": {},
   "outputs": [
    {
     "data": {
      "image/png": "[encoded data removed]",
      "text/plain": [
       "<Figure size 432x288 with 1 Axes>"
      ]
     },
     "metadata": {
      "needs_background": "light"
     },
     "output_type": "display_data"
    }
   ],
   "source": [
    "def prepare_the_noisy(n,m,b,r):\n",
    "    x = np.arange(0,4,1.0/n)\n",
    "    y = m*x + b + r*np.random.randn(len(x))\n",
    "    return (x,y)\n",
    "\n",
    "(x,y) = prepare_the_noisy(100,1,1,1)\n",
    "\n",
    "mlg = MyLinReg(x,y)\n",
    "res = mlg.linear_regression()\n",
    "f = lambda x: res[0]*x + res[1]\n",
    "\n",
    "plt.scatter(x,y,c='g')\n",
    "plt.plot(x,f(x),'b--',)\n",
    "plt.xlabel(\"X values\")\n",
    "plt.ylabel(\"Y values\")\n",
    "plt.title(\"Fitting Noisey Data\")\n",
    "plt.show()\n"
   ]
  },
  {
   "cell_type": "code",
   "execution_count": null,
   "id": "004de6be",
   "metadata": {},
   "outputs": [],
   "source": []
  },
  {
   "cell_type": "markdown",
   "id": "9d9913fa",
   "metadata": {},
   "source": [
    "### END"
   ]
  }
 ],
 "metadata": {
  "kernelspec": {
   "display_name": "Python 3 (ipykernel)",
   "language": "python",
   "name": "python3"
  },
  "language_info": {
   "codemirror_mode": {
    "name": "ipython",
    "version": 3
   },
   "file_extension": ".py",
   "mimetype": "text/x-python",
   "name": "python",
   "nbconvert_exporter": "python",
   "pygments_lexer": "ipython3",
   "version": "3.9.7"
  }
 },
 "nbformat": 4,
 "nbformat_minor": 5
}
